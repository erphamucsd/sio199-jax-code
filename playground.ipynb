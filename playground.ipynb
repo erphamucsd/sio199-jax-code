{
 "cells": [
  {
   "cell_type": "code",
   "execution_count": 65,
   "metadata": {},
   "outputs": [
    {
     "name": "stdout",
     "output_type": "stream",
     "text": [
      "The autoreload extension is already loaded. To reload it, use:\n",
      "  %reload_ext autoreload\n"
     ]
    }
   ],
   "source": [
    "%load_ext autoreload\n",
    "%autoreload 2\n",
    "\n",
    "import jax.numpy as jnp \n",
    "\n",
    "import geometry\n",
    "import humidity"
   ]
  },
  {
   "cell_type": "code",
   "execution_count": 66,
   "metadata": {},
   "outputs": [],
   "source": [
    "hsg, dhs, fsg, dhsr, fsgr, sia_half, coa_half, sia, coa, radang, cosg, cosgr, \\\n",
    "cosgr2, coriol = geometry.initialize_geometry()"
   ]
  },
  {
   "cell_type": "code",
   "execution_count": 67,
   "metadata": {},
   "outputs": [],
   "source": [
    "temp = jnp.array([[[273] * 96] * 48])\n",
    "pressure = jnp.array([[[0.5] * 96] * 48])\n",
    "sigma_levels = 4\n",
    "qg = jnp.array([[[2] * 96] * 48])\n",
    "\n",
    "qsat = humidity.get_qsat(temp, pressure, sigma_levels)\n",
    "\n",
    "rh, qsat_new = humidity.spec_hum_to_rel_hum(temp, pressure, sigma_levels, qg)\n",
    "\n",
    "qa, qsat_new = humidity.rel_hum_to_spec_hum(temp, pressure, sigma_levels, rh)"
   ]
  },
  {
   "cell_type": "code",
   "execution_count": 4,
   "metadata": {},
   "outputs": [],
   "source": [
    "import jax.numpy as jnp\n",
    "from physical_constants import alhc, cp, p0, grav\n",
    "import jax\n",
    "from geometry import fsg, dhs\n",
    "\n",
    "\n",
    "def get_large_scale_condensation_tendencies(psa, qa, qsat, itop):\n",
    "    # Constants\n",
    "    qsmax = 10.0\n",
    "    rtlsc = 1.0 / (trlsc * 3600.0)\n",
    "    tfact = alhc / cp\n",
    "    prg = p0 / grav\n",
    "\n",
    "    # Initialization\n",
    "    dtlsc = jnp.zeros_like(qsat)\n",
    "    dqlsc = jnp.zeros_like(qsat)\n",
    "    precls = jnp.zeros_like(psa)\n",
    "\n",
    "    psa2 = psa**2.0\n",
    "\n",
    "    # Tendencies of temperature and moisture\n",
    "    k_values = jnp.arange(2, kx + 1)\n",
    "    sig2 = fsg[k_values - 1]**2.0\n",
    "    rhref = rhlsc + drhlsc * (sig2 - 1.0)\n",
    "    rhref = jnp.where(k_values == kx, jnp.maximum(rhref, rhblsc), rhref)\n",
    "    dqmax = qsmax * sig2 * rtlsc\n",
    "\n",
    "    dqa = rhref[..., jnp.newaxis] * qsat - qa\n",
    "    itop = jnp.minimum(kx, itop)\n",
    "    dqlsc = jnp.where(dqa < 0.0, dqa * rtlsc, 0.0)\n",
    "    # dtlsc = jnp.where(dqa < 0.0, tfact * jnp.minimum(-dqlsc, dqmax * psa2), 0.0)\n",
    "\n",
    "    return dqlsc\n",
    "\n",
    "# Example data\n",
    "kx = 5\n",
    "ix = 3\n",
    "il = 4\n",
    "\n",
    "trlsc  = 4.0  \n",
    "rhlsc  = 0.9  \n",
    "drhlsc = 0.1  \n",
    "rhblsc = 0.95\n",
    "\n",
    "psa = jax.random.uniform(jax.random.PRNGKey(0), shape=(ix, il))\n",
    "qa = jax.random.uniform(jax.random.PRNGKey(1), shape=(ix, il, kx))\n",
    "qsat = jax.random.uniform(jax.random.PRNGKey(2), shape=(ix, il, kx))\n",
    "itop = jnp.full((ix, il), kx)  # Assuming initial values are all kx\n",
    "\n",
    "# Call the function\n",
    "precls, dtlsc, dqlsc = get_large_scale_condensation_tendencies(psa, qa, qsat, itop)\n",
    "\n",
    "# Print the result or perform further checks\n",
    "print(\"precls:\", precls)\n",
    "print(\"dtlsc:\", dtlsc)\n",
    "print(\"dqlsc:\", dqlsc)"
   ]
  }
 ],
 "metadata": {
  "kernelspec": {
   "display_name": "jpl",
   "language": "python",
   "name": "python3"
  },
  "language_info": {
   "codemirror_mode": {
    "name": "ipython",
    "version": 3
   },
   "file_extension": ".py",
   "mimetype": "text/x-python",
   "name": "python",
   "nbconvert_exporter": "python",
   "pygments_lexer": "ipython3",
   "version": "3.9.18"
  }
 },
 "nbformat": 4,
 "nbformat_minor": 2
}
