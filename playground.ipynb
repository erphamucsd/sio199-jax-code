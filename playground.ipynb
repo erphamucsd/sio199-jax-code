{
 "cells": [
  {
   "cell_type": "code",
   "execution_count": 65,
   "metadata": {},
   "outputs": [
    {
     "name": "stdout",
     "output_type": "stream",
     "text": [
      "The autoreload extension is already loaded. To reload it, use:\n",
      "  %reload_ext autoreload\n"
     ]
    }
   ],
   "source": [
    "%load_ext autoreload\n",
    "%autoreload 2\n",
    "\n",
    "import jax.numpy as jnp \n",
    "\n",
    "import geometry\n",
    "import humidity"
   ]
  },
  {
   "cell_type": "code",
   "execution_count": 66,
   "metadata": {},
   "outputs": [],
   "source": [
    "hsg, dhs, fsg, dhsr, fsgr, sia_half, coa_half, sia, coa, radang, cosg, cosgr, \\\n",
    "cosgr2, coriol = geometry.initialize_geometry()"
   ]
  },
  {
   "cell_type": "code",
   "execution_count": 67,
   "metadata": {},
   "outputs": [],
   "source": [
    "temp = jnp.array([[[273] * 96] * 48])\n",
    "pressure = jnp.array([[[0.5] * 96] * 48])\n",
    "sigma_levels = 4\n",
    "qg = jnp.array([[[2] * 96] * 48])\n",
    "\n",
    "qsat = humidity.get_qsat(temp, pressure, sigma_levels)\n",
    "\n",
    "rh, qsat_new = humidity.spec_hum_to_rel_hum(temp, pressure, sigma_levels, qg)\n",
    "\n",
    "qa, qsat_new = humidity.rel_hum_to_spec_hum(temp, pressure, sigma_levels, rh)"
   ]
  }
 ],
 "metadata": {
  "language_info": {
   "name": "python"
  }
 },
 "nbformat": 4,
 "nbformat_minor": 2
}
