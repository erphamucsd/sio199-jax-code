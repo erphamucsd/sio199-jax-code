{
 "cells": [
  {
   "cell_type": "code",
   "execution_count": 42,
   "metadata": {},
   "outputs": [
    {
     "name": "stdout",
     "output_type": "stream",
     "text": [
      "The autoreload extension is already loaded. To reload it, use:\n",
      "  %reload_ext autoreload\n"
     ]
    }
   ],
   "source": [
    "%load_ext autoreload\n",
    "%autoreload 2\n",
    "\n",
    "import jax.numpy as jnp \n",
    "\n",
    "import geometry\n",
    "import humidity\n",
    "import large_scale_condensation"
   ]
  },
  {
   "cell_type": "code",
   "execution_count": 43,
   "metadata": {},
   "outputs": [],
   "source": [
    "hsg, dhs, fsg, dhsr, fsgr, sia_half, coa_half, sia, coa, radang, cosg, cosgr, \\\n",
    "cosgr2, coriol = geometry.initialize_geometry()"
   ]
  },
  {
   "cell_type": "code",
   "execution_count": 44,
   "metadata": {},
   "outputs": [],
   "source": [
    "temp = jnp.array([[[273] * 96] * 48])\n",
    "pressure = jnp.array([[[0.5] * 96] * 48])\n",
    "sigma_levels = 4\n",
    "qg = jnp.array([[[2] * 96] * 48])\n",
    "\n",
    "qsat = humidity.get_qsat(temp, pressure, sigma_levels)\n",
    "\n",
    "rh, qsat_new = humidity.spec_hum_to_rel_hum(temp, pressure, sigma_levels, qg)\n",
    "\n",
    "qa, qsat_new = humidity.rel_hum_to_spec_hum(temp, pressure, sigma_levels, rh)"
   ]
  },
  {
   "cell_type": "code",
   "execution_count": 56,
   "metadata": {},
   "outputs": [
    {
     "name": "stdout",
     "output_type": "stream",
     "text": [
      "Precipitation due to large-scale condensation (precls):\n",
      "[[0.11387439]]\n",
      "\n",
      "Temperature tendency due to large-scale condensation (dtlsc):\n",
      "[[[1.0811790e-06 1.5612222e-05 3.3905773e-05 3.2597978e-05 3.0098290e-05\n",
      "   2.6480671e-05 2.2536526e-05 8.6494329e-06]]]\n",
      "\n",
      "Specific humidity tendency due to large-scale condensation (dqlsc):\n",
      "[[[-1.38845508e-05 -1.38262167e-05 -1.36111139e-05 -1.30861135e-05\n",
      "   -1.20826398e-05 -1.06303851e-05 -9.04704939e-06 -3.47222317e-06]]]\n",
      "\n",
      "Updated cloud top (itop):\n",
      "[[0]]\n"
     ]
    }
   ],
   "source": [
    "from physical_constants import p0, cp, alhc, alhs, grav\n",
    "from geometry import fsg, dhs\n",
    "\n",
    "# Constants for large-scale condensation\n",
    "trlsc = 4.0   # Relaxation time (in hours) for specific humidity\n",
    "rhlsc = 0.9   # Maximum relative humidity threshold (at sigma=1)\n",
    "drhlsc = 0.1  # Vertical range of relative humidity threshold\n",
    "rhblsc = 0.95 # Relative humidity threshold for boundary layer\n",
    "\n",
    "def get_large_scale_condensation_tendencies(psa, qa, qsat, itop, fsg, dhs, p0, cp, alhc, grav):\n",
    "    ix, il, kx = qa.shape\n",
    "\n",
    "    # Initialize outputs\n",
    "    dtlsc = jnp.zeros_like(qa)\n",
    "    dqlsc = jnp.zeros_like(qa)\n",
    "    precls = jnp.zeros((ix, il))\n",
    "\n",
    "    # Constants for computation\n",
    "    qsmax = 10.0\n",
    "    rtlsc = 1.0 / (trlsc * 3600.0)\n",
    "    tfact = alhc / cp\n",
    "    prg = p0 / grav\n",
    "\n",
    "    psa2 = psa ** 2.0\n",
    "\n",
    "    # Compute sig2, rhref, and dqmax arrays\n",
    "    sig2 = fsg**2.0\n",
    "    rhref = rhlsc + drhlsc * (sig2 - 1.0)\n",
    "    rhref = rhref.at[-1].set(jnp.maximum(rhref[-1], rhblsc))\n",
    "    dqmax = qsmax * sig2 * rtlsc\n",
    "\n",
    "    # Compute dqa array\n",
    "    dqa = rhref[jnp.newaxis, jnp.newaxis, :] * qsat - qa\n",
    "\n",
    "    # Calculate dqlsc and dtlsc where dqa < 0\n",
    "    negative_dqa_mask = dqa < 0\n",
    "    dqlsc = jnp.where(negative_dqa_mask, dqa * rtlsc, dqlsc)\n",
    "    dtlsc = jnp.where(negative_dqa_mask, tfact * jnp.minimum(-dqlsc, dqmax[jnp.newaxis, jnp.newaxis, :] * psa2[:, :, jnp.newaxis]), dtlsc)\n",
    "\n",
    "    # Update itop\n",
    "    def update_itop(itop, indices, values):\n",
    "        for idx, val in zip(zip(*indices), values):\n",
    "            itop = itop.at[idx[:2]].set(jnp.minimum(itop[idx[:2]], val))\n",
    "        return itop\n",
    "\n",
    "    itop_update_indices = jnp.where(negative_dqa_mask)\n",
    "    itop = update_itop(itop, itop_update_indices, itop_update_indices[2])\n",
    "\n",
    "    # Large-scale precipitation\n",
    "    pfact = dhs * prg\n",
    "    precls -= jnp.sum(pfact[jnp.newaxis, jnp.newaxis, :] * dqlsc, axis=2)\n",
    "    precls *= psa\n",
    "\n",
    "    return itop, precls, dtlsc, dqlsc\n",
    "\n",
    "# Example inputs\n",
    "ix, il, kx = 1, 1, 8\n",
    "psa = jnp.ones((ix, il))\n",
    "qa = jnp.ones((ix, il, kx))\n",
    "qsat = jnp.ones((ix, il, kx))\n",
    "itop = jnp.full((ix, il), kx - 1)\n",
    "#fsg = jnp.linspace(0.1, 1.0, kx)\n",
    "#dhs = jnp.ones(kx)\n",
    "#p0 = 1000.0\n",
    "#cp = 1004.0\n",
    "#alhc = 2.5e6\n",
    "#grav = 9.81\n",
    "\n",
    "# Call the function\n",
    "itop, precls, dtlsc, dqlsc = get_large_scale_condensation_tendencies(psa, qa, qsat, itop, fsg, dhs, p0, cp, alhc, grav)\n",
    "\n",
    "# Print the results\n",
    "print(\"Precipitation due to large-scale condensation (precls):\")\n",
    "print(precls)\n",
    "print(\"\\nTemperature tendency due to large-scale condensation (dtlsc):\")\n",
    "print(dtlsc)\n",
    "print(\"\\nSpecific humidity tendency due to large-scale condensation (dqlsc):\")\n",
    "print(dqlsc)\n",
    "print(\"\\nUpdated cloud top (itop):\")\n",
    "print(itop)"
   ]
  },
  {
   "cell_type": "code",
   "execution_count": 58,
   "metadata": {},
   "outputs": [],
   "source": [
    "itop, precls, dtlsc, dqlsc = large_scale_condensation.get_large_scale_condensation_tendencies(psa, qa, qsat, itop)"
   ]
  }
 ],
 "metadata": {
  "kernelspec": {
   "display_name": "jpl",
   "language": "python",
   "name": "python3"
  },
  "language_info": {
   "codemirror_mode": {
    "name": "ipython",
    "version": 3
   },
   "file_extension": ".py",
   "mimetype": "text/x-python",
   "name": "python",
   "nbconvert_exporter": "python",
   "pygments_lexer": "ipython3",
   "version": "3.9.18"
  }
 },
 "nbformat": 4,
 "nbformat_minor": 2
}
